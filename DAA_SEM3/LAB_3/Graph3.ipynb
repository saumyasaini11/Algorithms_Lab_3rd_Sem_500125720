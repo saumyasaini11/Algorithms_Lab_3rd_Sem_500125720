{
  "nbformat": 4,
  "nbformat_minor": 0,
  "metadata": {
    "colab": {
      "provenance": []
    },
    "kernelspec": {
      "name": "python3",
      "display_name": "Python 3"
    },
    "language_info": {
      "name": "python"
    }
  },
  "cells": [
    {
      "cell_type": "code",
      "execution_count": null,
      "metadata": {
        "id": "s3opCT7ii7ZO"
      },
      "outputs": [],
      "source": [
        "import matplotlib.pyplot as plt\n",
        "\n",
        "# Data for Matrix Size, Traditional Time, and Strassen Time\n",
        "matrix_size = ['64x64', '128x128', '256x256', '512x512', '1024x1024', '2048x2048']\n",
        "traditional_time = [0.002000, 0.018000, 0.114000, 1.085000, 12.260000, 104.087000]\n",
        "strassen_time = [0.003000, 0.012000, 0.097000, 0.695000, 5.342000, 31.159000]\n",
        "\n",
        "# Create the plot\n",
        "plt.figure(figsize=(10, 6))\n",
        "\n",
        "# Plot the Traditional Time vs Matrix Size\n",
        "plt.plot(matrix_size, traditional_time, label='Traditional Time', marker='o', color='blue', linestyle='-', linewidth=2)\n",
        "\n",
        "# Plot the Strassen Time vs Matrix Size\n",
        "plt.plot(matrix_size, strassen_time, label='Strassen Time', marker='o', color='red', linestyle='-', linewidth=2)\n",
        "\n",
        "# Add labels and title\n",
        "plt.xlabel('Matrix Size')\n",
        "plt.ylabel('Time (seconds)')\n",
        "plt.title('Performance Comparison: Traditional vs Strassen Matrix Multiplication')\n",
        "\n",
        "# Add a legend\n",
        "plt.legend()\n",
        "\n",
        "# Add grid for better readability\n",
        "plt.grid(True)\n",
        "\n",
        "# Display the plot\n",
        "plt.show()"
      ]
    }
  ]
}